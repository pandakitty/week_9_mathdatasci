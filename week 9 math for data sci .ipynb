{
 "cells": [
  {
   "cell_type": "code",
   "execution_count": 40,
   "id": "f21104a8",
   "metadata": {},
   "outputs": [
    {
     "name": "stdout",
     "output_type": "stream",
     "text": [
      "Is Vector a an eigenvector of A? :  False\n",
      "Is Vector b an eigenvector of A? :  False\n",
      " Eigenvalues of A: [-6.  5. -1.]\n",
      " Eigenvectors of A: \n",
      "[[ 0.          0.69431384 -0.18493168]\n",
      " [ 1.         -0.18935832 -0.33287702]\n",
      " [ 0.          0.69431384  0.9246584 ]]\n"
     ]
    },
    {
     "name": "stderr",
     "output_type": "stream",
     "text": [
      "C:\\Users\\ashem\\AppData\\Local\\Temp\\ipykernel_22520\\2311187840.py:22: RuntimeWarning: invalid value encountered in divide\n",
      "  b = (A@vb)==np.nan_to_num((A@vb/vb)) # True\n"
     ]
    }
   ],
   "source": [
    "# 1. Finding the Eigenvalues and Eigenvectors of a Matrix\n",
    "## Let A be the matrix given below. \n",
    "### A = [[4,0,1],[-1,-6,-2],[5,0,0]]\n",
    "\n",
    "# a) is the vector [[1],[2],[3]] an eigenvector of A? Verify your answer with a calculation in Python. \n",
    "\n",
    "\n",
    "# b) Is the vector [[0],[1],[0]] an eigenvector of A? Again, verify your answer with a calculation in python. \n",
    "\n",
    "# c) Use python to find all the eigenvalues and eigenvectors of A. \n",
    "\n",
    "import numpy as np\n",
    "\n",
    "A = np.matrix('4 0 1; -1 -6 -2; 5 0 0')\n",
    "\n",
    "# Eiganvectors determined by testing if mulitple contains common factor v\n",
    "va = np.array([1, 2, 3]).reshape(3,1)\n",
    "vb = np.array([0, 2 , 0]).reshape(3,1)\n",
    "\n",
    "# Are the eiganvectors via testing elements equal?\n",
    "a = (A@va)==np.nan_to_num((A@va/va)) # False\n",
    "b = (A@vb)==np.nan_to_num((A@vb/vb)) # True\n",
    "\n",
    "# Boolean of the solution\n",
    "print('Is Vector a an eigenvector of A? : ', np.all(a==True))\n",
    "print('Is Vector b an eigenvector of A? : ', np.all(b==True))\n",
    "\n",
    "# Define eigenvalues and eigenvectors in iterable\n",
    "eigs = np.linalg.eig(A)\n",
    "\n",
    "# print solution\n",
    "print(f' Eigenvalues of A: {eigs[0]}\\n'\n",
    "      f' Eigenvectors of A: \\n{eigs[1]}')"
   ]
  },
  {
   "cell_type": "code",
   "execution_count": 55,
   "id": "c6006690",
   "metadata": {},
   "outputs": [],
   "source": [
    "\n",
    "# 2. Principal Component Analysis\n",
    "## For this exercise, you will be working with the data set video game data.csv. This data has four columns: name of the game, critic score, user score, and total sales. Note: This data set is a modified version of the data set from https://www.kaggle.com/ashaheedq/video-games-sales-2019.\n"
   ]
  },
  {
   "cell_type": "code",
   "execution_count": 54,
   "id": "8c25e893",
   "metadata": {},
   "outputs": [
    {
     "data": {
      "text/html": [
       "<div>\n",
       "<style scoped>\n",
       "    .dataframe tbody tr th:only-of-type {\n",
       "        vertical-align: middle;\n",
       "    }\n",
       "\n",
       "    .dataframe tbody tr th {\n",
       "        vertical-align: top;\n",
       "    }\n",
       "\n",
       "    .dataframe thead th {\n",
       "        text-align: right;\n",
       "    }\n",
       "</style>\n",
       "<table border=\"1\" class=\"dataframe\">\n",
       "  <thead>\n",
       "    <tr style=\"text-align: right;\">\n",
       "      <th></th>\n",
       "      <th>name</th>\n",
       "      <th>critic_score</th>\n",
       "      <th>user_score</th>\n",
       "      <th>total_shipped</th>\n",
       "    </tr>\n",
       "  </thead>\n",
       "  <tbody>\n",
       "    <tr>\n",
       "      <th>0</th>\n",
       "      <td>Mario Kart Wii</td>\n",
       "      <td>8.2</td>\n",
       "      <td>9.1</td>\n",
       "      <td>37.14</td>\n",
       "    </tr>\n",
       "    <tr>\n",
       "      <th>1</th>\n",
       "      <td>Wii Sports Resort</td>\n",
       "      <td>8.0</td>\n",
       "      <td>8.8</td>\n",
       "      <td>33.09</td>\n",
       "    </tr>\n",
       "    <tr>\n",
       "      <th>2</th>\n",
       "      <td>New Super Mario Bros.</td>\n",
       "      <td>9.1</td>\n",
       "      <td>8.1</td>\n",
       "      <td>30.80</td>\n",
       "    </tr>\n",
       "    <tr>\n",
       "      <th>3</th>\n",
       "      <td>New Super Mario Bros. Wii</td>\n",
       "      <td>8.6</td>\n",
       "      <td>9.2</td>\n",
       "      <td>30.22</td>\n",
       "    </tr>\n",
       "    <tr>\n",
       "      <th>4</th>\n",
       "      <td>Mario Kart DS</td>\n",
       "      <td>9.1</td>\n",
       "      <td>9.4</td>\n",
       "      <td>23.60</td>\n",
       "    </tr>\n",
       "  </tbody>\n",
       "</table>\n",
       "</div>"
      ],
      "text/plain": [
       "                        name  critic_score  user_score  total_shipped\n",
       "0             Mario Kart Wii           8.2         9.1          37.14\n",
       "1          Wii Sports Resort           8.0         8.8          33.09\n",
       "2      New Super Mario Bros.           9.1         8.1          30.80\n",
       "3  New Super Mario Bros. Wii           8.6         9.2          30.22\n",
       "4              Mario Kart DS           9.1         9.4          23.60"
      ]
     },
     "execution_count": 54,
     "metadata": {},
     "output_type": "execute_result"
    }
   ],
   "source": [
    "# (a) Make a scatterplot of the user scores versus critics scores. \n",
    "\n",
    "import numpy as np\n",
    "import matplotlib.pyplot as plt\n",
    "import pandas as pd\n",
    "import seaborn as sns; sns.set()\n",
    "\n",
    "data = pd.read_csv('video_game_data.csv')\n",
    "\n",
    "data.head()"
   ]
  },
  {
   "cell_type": "code",
   "execution_count": 42,
   "id": "2f869dca",
   "metadata": {},
   "outputs": [
    {
     "data": {
      "text/html": [
       "<div>\n",
       "<style scoped>\n",
       "    .dataframe tbody tr th:only-of-type {\n",
       "        vertical-align: middle;\n",
       "    }\n",
       "\n",
       "    .dataframe tbody tr th {\n",
       "        vertical-align: top;\n",
       "    }\n",
       "\n",
       "    .dataframe thead th {\n",
       "        text-align: right;\n",
       "    }\n",
       "</style>\n",
       "<table border=\"1\" class=\"dataframe\">\n",
       "  <thead>\n",
       "    <tr style=\"text-align: right;\">\n",
       "      <th></th>\n",
       "      <th>critic_score</th>\n",
       "      <th>user_score</th>\n",
       "    </tr>\n",
       "  </thead>\n",
       "  <tbody>\n",
       "    <tr>\n",
       "      <th>0</th>\n",
       "      <td>8.2</td>\n",
       "      <td>9.1</td>\n",
       "    </tr>\n",
       "    <tr>\n",
       "      <th>1</th>\n",
       "      <td>8.0</td>\n",
       "      <td>8.8</td>\n",
       "    </tr>\n",
       "    <tr>\n",
       "      <th>2</th>\n",
       "      <td>9.1</td>\n",
       "      <td>8.1</td>\n",
       "    </tr>\n",
       "    <tr>\n",
       "      <th>3</th>\n",
       "      <td>8.6</td>\n",
       "      <td>9.2</td>\n",
       "    </tr>\n",
       "    <tr>\n",
       "      <th>4</th>\n",
       "      <td>9.1</td>\n",
       "      <td>9.4</td>\n",
       "    </tr>\n",
       "  </tbody>\n",
       "</table>\n",
       "</div>"
      ],
      "text/plain": [
       "   critic_score  user_score\n",
       "0           8.2         9.1\n",
       "1           8.0         8.8\n",
       "2           9.1         8.1\n",
       "3           8.6         9.2\n",
       "4           9.1         9.4"
      ]
     },
     "execution_count": 42,
     "metadata": {},
     "output_type": "execute_result"
    }
   ],
   "source": [
    "data_ = data.loc[:,['critic_score', 'user_score']]\n",
    "data_.head()"
   ]
  },
  {
   "cell_type": "code",
   "execution_count": 49,
   "id": "5885935b",
   "metadata": {},
   "outputs": [
    {
     "data": {
      "image/png": "[encoded data removed]",
      "text/plain": [
       "<Figure size 640x480 with 1 Axes>"
      ]
     },
     "metadata": {},
     "output_type": "display_data"
    }
   ],
   "source": [
    "data_scores = pd.read_csv(\"video_game_data.csv\")\n",
    "plt.scatter(data_scores['critic_score'],\n",
    "data_scores['user_score'],\n",
    "alpha=0.3)\n",
    "plt.xlabel('critic_score')\n",
    "plt.ylabel('user_score')\n",
    "plt.title('User Scores Versus Critics Scores')\n",
    "plt.scatter(x, y)\n",
    "plt.axis('equal')\n",
    "plt.show()"
   ]
  },
  {
   "cell_type": "code",
   "execution_count": 50,
   "id": "81bce81b",
   "metadata": {},
   "outputs": [
    {
     "data": {
      "text/plain": [
       "array([[0.59682331, 0.27559211],\n",
       "       [0.27559211, 0.60490602]])"
      ]
     },
     "execution_count": 50,
     "metadata": {},
     "output_type": "execute_result"
    }
   ],
   "source": [
    "# (b) On your own scatterplot from part (a), sketch the approximate direction of the first and second principal components.\n",
    "\n",
    "## create data matrix X with the two variables: user scores and critic scores:\n",
    "\n",
    "X = np.array([data_['critic_score'], data_['user_score']]).T\n",
    "X.shape\n",
    "\n",
    "\n",
    "# Compute the covariance matrisx of the dataset:\n",
    "\n",
    "C= np.cov(X, rowvar=False)\n",
    "C\n",
    "\n",
    "## The covariance between the two variables is around 0.28"
   ]
  },
  {
   "cell_type": "code",
   "execution_count": 51,
   "id": "1d302f2c",
   "metadata": {},
   "outputs": [
    {
     "data": {
      "text/plain": [
       "(array([0.32524293, 0.8764864 ]),\n",
       " array([[-0.71227196, -0.7019036 ],\n",
       "        [ 0.7019036 , -0.71227196]]))"
      ]
     },
     "execution_count": 51,
     "metadata": {},
     "output_type": "execute_result"
    }
   ],
   "source": [
    "## Calculate the eigenvectors and eigenvalues of this covariance matrix:\n",
    "\n",
    "eigvals, eigvecs = np.linalg.eig(C)\n",
    "eigvals, eigvecs\n"
   ]
  },
  {
   "cell_type": "code",
   "execution_count": 52,
   "id": "0b2448e6",
   "metadata": {},
   "outputs": [],
   "source": [
    "## Store the eigenvectors as two vectors u and v.\n",
    "\n",
    "u = eigvecs[:, 0].reshape(-1, 1)\n",
    "v = eigvecs[:, 1].reshape(-1, 1)\n"
   ]
  },
  {
   "cell_type": "code",
   "execution_count": 53,
   "id": "2f3624d1",
   "metadata": {},
   "outputs": [
    {
     "data": {
      "text/plain": [
       "<matplotlib.collections.PathCollection at 0x1e77fa49590>"
      ]
     },
     "execution_count": 53,
     "metadata": {},
     "output_type": "execute_result"
    },
    {
     "data": {
      "image/png": "[encoded data removed]",
      "text/plain": [
       "<Figure size 640x480 with 1 Axes>"
      ]
     },
     "metadata": {},
     "output_type": "display_data"
    }
   ],
   "source": [
    "## Plot the eigenvectors with the data using centered data using vector length of three standard deviations:\n",
    "\n",
    "# eigenvector u is in gray while v is in red, scaled according to the explained variance.\n",
    "\n",
    "X_centered = X - X.mean(axis=0)\n",
    "plt.quiver(0, 0,\n",
    "2 * np.sqrt(eigvals[0]) * u[0], 2 * np.sqrt(eigvals[0]) * u[1],\n",
    "color=\"#919191\", angles='xy', scale_units='xy', scale=1,\n",
    "zorder=2, width=0.011)\n",
    "plt.quiver(0, 0,\n",
    "2 * np.sqrt(eigvals[1]) * v[0], 2 * np.sqrt(eigvals[1]) * v[1],\n",
    "color=\"#FF8177\", angles='xy', scale_units='xy', scale=1,\n",
    "zorder=2, width=0.011)\n",
    "plt.scatter(X_centered[:, 0], X_centered[:, 1], alpha=0.3)"
   ]
  }
 ],
 "metadata": {
  "kernelspec": {
   "display_name": "Python 3 (ipykernel)",
   "language": "python",
   "name": "python3"
  },
  "language_info": {
   "codemirror_mode": {
    "name": "ipython",
    "version": 3
   },
   "file_extension": ".py",
   "mimetype": "text/x-python",
   "name": "python",
   "nbconvert_exporter": "python",
   "pygments_lexer": "ipython3",
   "version": "3.11.0"
  }
 },
 "nbformat": 4,
 "nbformat_minor": 5
}
